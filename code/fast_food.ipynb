{
 "cells": [
  {
   "cell_type": "markdown",
   "id": "efe59f4d",
   "metadata": {},
   "source": [
    "# Comidas Rápidas\n",
    "\n",
    "Nuestro local de comida rápida, “Panis”, tiene mucho que aprender sobre teoría \n",
    "de colas. Insta a los clientes a que formen 3 colas en las que se distribuyen de \n",
    "forma aleatoria delante de los empleados durante el periodo de comidas diario. \n",
    "Además han instalado entre las tres colas barreras para que los clientes no se \n",
    "pasen a otras colas para prevenir que la gente se “cambie de cola”. Llegan los \n",
    "clientes según una distribución de Poisson con una media de 60 por hora y el \n",
    "tiempo en que un cliente es servido varía según una distribución exponencial de \n",
    "media 150 segundos. Asumiendo el estado permanente del sistema, ¿cuál es el \n",
    "tiempo medio de estancia del cliente hasta que ha sido atendido? El gerente de \n",
    "“Panis” ha creído ahora que es preferible una única cola para distribuir finalmente a \n",
    "los tres servidores y por tanto las barreras son eliminadas. ¿cuál es el tiempo de \n",
    "espera de este modo?"
   ]
  },
  {
   "cell_type": "markdown",
   "id": "ad018e94",
   "metadata": {},
   "source": [
    "### Consideraciones iniciales"
   ]
  },
  {
   "cell_type": "code",
   "execution_count": 38,
   "id": "f1d3a7a5",
   "metadata": {},
   "outputs": [],
   "source": [
    "import simpy\n",
    "import numpy as np\n",
    "import matplotlib.pyplot as plt\n",
    "\n",
    "# Parámetros del sistema\n",
    "LAMBDA = 60  # Tasa de llegadas (clientes/hora)\n",
    "MU = 24      # Tasa de servicio por servidor (clientes/hora)\n",
    "HORAS_SIMULACION = 1000  # Tiempo de simulación (suficiente para estado estable)\n",
    "\n",
    "# Conversión a minutos para simulación\n",
    "LAMBDA_MIN = LAMBDA / 60  # Clientes/minuto\n",
    "MU_MIN = MU / 60          # Clientes/minuto"
   ]
  },
  {
   "cell_type": "markdown",
   "id": "67b18ea7",
   "metadata": {},
   "source": [
    "### Simulación para tres colas (cada cola funciona de forma independiente)"
   ]
  },
  {
   "cell_type": "code",
   "execution_count": 39,
   "id": "3d4662ec",
   "metadata": {},
   "outputs": [],
   "source": [
    "def simulacion_tres_colas(env, lambd, mu, datos):\n",
    "    # Tres servidores independientes (cada uno es un recurso de simpy)\n",
    "    servidores = [simpy.Resource(env, capacity=1) for _ in range(3)]\n",
    "\n",
    "    def cliente(env, nombre, servidor):\n",
    "        llegada = env.now\n",
    "        with servidor.request() as req:\n",
    "            yield req\n",
    "            inicio_servicio = env.now\n",
    "            tiempo_servicio = np.random.exponential(1/mu)\n",
    "            yield env.timeout(tiempo_servicio)\n",
    "            fin_servicio = env.now\n",
    "            datos.append({\n",
    "                \"llegada\": llegada,\n",
    "                \"inicio_servicio\": inicio_servicio,\n",
    "                \"fin_servicio\": fin_servicio,\n",
    "                \"servidor\": servidor\n",
    "            })\n",
    "\n",
    "    # Generación de clientes y asignación aleatoria a colas\n",
    "    cliente_id = 0\n",
    "    while True:\n",
    "        yield env.timeout(np.random.exponential(1/lambd))\n",
    "        servidor = np.random.choice(servidores)\n",
    "        env.process(cliente(env, f'Cliente_{cliente_id}', servidor))\n",
    "        cliente_id += 1"
   ]
  },
  {
   "cell_type": "markdown",
   "id": "8e2476ed",
   "metadata": {},
   "source": [
    "### Ejecución de la simulación para tres colas"
   ]
  },
  {
   "cell_type": "code",
   "execution_count": 40,
   "id": "21276430",
   "metadata": {},
   "outputs": [],
   "source": [
    "datos = []\n",
    "env = simpy.Environment()\n",
    "env.process(simulacion_tres_colas(env, LAMBDA_MIN, MU_MIN, datos))\n",
    "env.run(until=HORAS_SIMULACION * 60)  # Convertir horas a minutos\n",
    "\n",
    "# Cálculo de métricas (tiempos en minutos)\n",
    "tiempos_sistema = [d[\"fin_servicio\"] - d[\"llegada\"] for d in datos]\n",
    "media_tres_colas = np.mean(tiempos_sistema)"
   ]
  },
  {
   "cell_type": "markdown",
   "id": "6a61d967",
   "metadata": {},
   "source": [
    "### Simulación para una cola para tres servidores"
   ]
  },
  {
   "cell_type": "code",
   "execution_count": 41,
   "id": "695207b2",
   "metadata": {},
   "outputs": [],
   "source": [
    "def simulacion_una_cola(env, lambd, mu, num_servidores, datos):\n",
    "    servidor = simpy.Resource(env, capacity=num_servidores)\n",
    "\n",
    "    def cliente(env, nombre):\n",
    "        llegada = env.now\n",
    "        with servidor.request() as req:\n",
    "            yield req\n",
    "            inicio_servicio = env.now\n",
    "            tiempo_servicio = np.random.exponential(1/mu)\n",
    "            yield env.timeout(tiempo_servicio)\n",
    "            fin_servicio = env.now\n",
    "            datos.append({\n",
    "                \"llegada\": llegada,\n",
    "                \"inicio_servicio\": inicio_servicio,\n",
    "                \"fin_servicio\": fin_servicio\n",
    "            })\n",
    "\n",
    "    # Generación de clientes\n",
    "    cliente_id = 0\n",
    "    while True:\n",
    "        yield env.timeout(np.random.exponential(1/lambd))\n",
    "        env.process(cliente(env, f'Cliente_{cliente_id}'))\n",
    "        cliente_id += 1"
   ]
  },
  {
   "cell_type": "markdown",
   "id": "0918af25",
   "metadata": {},
   "source": [
    "### Ejecución de la simulación para una cola"
   ]
  },
  {
   "cell_type": "code",
   "execution_count": 42,
   "id": "6cffffc8",
   "metadata": {},
   "outputs": [],
   "source": [
    "# Ejecución de la simulación\n",
    "datos = []\n",
    "env = simpy.Environment()\n",
    "env.process(simulacion_una_cola(env, LAMBDA_MIN, MU_MIN, 3, datos))\n",
    "env.run(until=HORAS_SIMULACION * 60)\n",
    "\n",
    "# Cálculo de métricas\n",
    "tiempos_sistema = [d[\"fin_servicio\"] - d[\"llegada\"] for d in datos]\n",
    "media_una_cola = np.mean(tiempos_sistema)"
   ]
  },
  {
   "cell_type": "markdown",
   "id": "41e5467e",
   "metadata": {},
   "source": [
    "## Comparación entre ambas organizaciones (tres y una cola)\n",
    "\n",
    "Se establece una comparación entre ambas alternativas para considerar la que genere menor tiempo de espera para buscar la felicidad de los clientes del restaurante y así, una mayor aceptación."
   ]
  },
  {
   "cell_type": "code",
   "execution_count": 43,
   "id": "c86e58df",
   "metadata": {},
   "outputs": [
    {
     "data": {
      "image/png": "[encoded data removed]",
      "text/plain": [
       "<Figure size 640x480 with 1 Axes>"
      ]
     },
     "metadata": {},
     "output_type": "display_data"
    }
   ],
   "source": [
    "# Crear la figura y los ejes\n",
    "fig, ax = plt.subplots()\n",
    "barras = ax.bar([\"Tres Colas\", \"Una Cola\"], [media_tres_colas, media_una_cola])\n",
    "\n",
    "# Agregar etiquetas de valores directamente con bar_label\n",
    "ax.bar_label(barras, fmt=\"%.2f\")\n",
    "\n",
    "# Etiquetas\n",
    "ax.set_ylabel(\"Tiempo medio en sistema (minutos)\")\n",
    "ax.set_title(\"Comparación de sistemas\")\n",
    "\n",
    "# Mostrar la gráfica\n",
    "plt.show()"
   ]
  }
 ],
 "metadata": {
  "kernelspec": {
   "display_name": "Python 3",
   "language": "python",
   "name": "python3"
  },
  "language_info": {
   "codemirror_mode": {
    "name": "ipython",
    "version": 3
   },
   "file_extension": ".py",
   "mimetype": "text/x-python",
   "name": "python",
   "nbconvert_exporter": "python",
   "pygments_lexer": "ipython3",
   "version": "3.12.0"
  }
 },
 "nbformat": 4,
 "nbformat_minor": 5
}
